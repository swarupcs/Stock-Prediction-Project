{
 "cells": [
  {
   "cell_type": "code",
   "execution_count": 4,
   "metadata": {
    "id": "cwKlTt-D0VAM"
   },
   "outputs": [],
   "source": [
    "import csv"
   ]
  },
  {
   "cell_type": "code",
   "execution_count": 5,
   "metadata": {
    "id": "3Q_llHMhMKks"
   },
   "outputs": [],
   "source": [
    "def remove_header(fname):\n",
    "  with open(fname, 'r', newline='') as file:\n",
    "    rows = list(csv.reader(file))\n",
    "  del rows[0]\n",
    "  with open(fname, 'w', newline='') as file:\n",
    "    writer = csv.writer(file)\n",
    "    writer.writerows(rows)\n",
    "\n",
    "  return fname"
   ]
  },
  {
   "cell_type": "code",
   "execution_count": 6,
   "metadata": {
    "id": "i3I8WSTCzx6B"
   },
   "outputs": [],
   "source": [
    "def append_data():\n",
    "  hist_data = [\"BHARTIARTL.csv\"]\n",
    "  news_data = [\"economictimes_AIRTEL.csv\",\"moneycontrol_AIRTEL.csv\",\"TOI_airtel.csv\"]\n",
    "  final_data = []\n",
    "\n",
    "  for i in range(len(hist_data)):\n",
    "    hist_data[i] = remove_header(hist_data[i])\n",
    "\n",
    "  for histdata in hist_data:\n",
    "    with open(histdata, 'r',newline='') as file:\n",
    "      csv_reader = csv.reader(file)\n",
    "      for row in csv_reader:\n",
    "        final_data.append(row)\n",
    "  final_data.insert(0,['Date','Open','High','Low','Close','Adj Close','Volume'])\n",
    "\n",
    "  with open('final_hist.csv','w',newline='') as file:\n",
    "    csv_writer = csv.writer(file)\n",
    "    csv_writer.writerows(final_data)\n",
    "\n",
    "  final_data = []\n",
    "  for i in range(len(news_data)):\n",
    "    news_data[i] = remove_header(news_data[i])\n",
    "\n",
    "  for newsdata in news_data:\n",
    "    with open(newsdata, 'r',newline='') as file:\n",
    "      csv_reader = csv.reader(file)\n",
    "      for row in csv_reader:\n",
    "        final_data.append(row) #del row[0]\n",
    "\n",
    "  final_data.insert(0,['Company','Date of publishing','Author','Headline','Description','Article Body','URL'])\n",
    "  with open('final_news.csv','w',newline='') as file:\n",
    "    csv_writer = csv.writer(file)\n",
    "    csv_writer.writerows(final_data)\n",
    "\n",
    "  check_date('final_hist.csv','final_news.csv')\n",
    "\n"
   ]
  },
  {
   "cell_type": "code",
   "execution_count": 9,
   "metadata": {
    "id": "VcioB9Jkw7I8"
   },
   "outputs": [],
   "source": [
    "def check_date(fname1, fname2):\n",
    "  fd = []\n",
    "  flag = 0\n",
    "  merged_data = []\n",
    "  with open(fname1,'r',newline='') as file:\n",
    "    csv_reader = csv.reader(file)\n",
    "    for row1 in csv_reader:\n",
    "      date1 = row1[0]\n",
    "      flag = 0\n",
    "      with open(fname2,'r',newline='') as file:\n",
    "        reader = csv.reader(file)\n",
    "        for row2 in reader:\n",
    "          date2 = row2[1][:10]\n",
    "          if date2[:4]==date1[6:] and date2[5:7]==date1[3:5] and date1[:2]==date2[8:]:\n",
    "            print(date1,'\\t',date2)\n",
    "            merged_data.append(row1 + row2)\n",
    "            flag = 1\n",
    "      if flag == 0:\n",
    "        merged_data.append(row1)\n",
    "      #print(row1)\n",
    "\n",
    "  merged_data[0].extend(['Company','Date of Publishing','Author','Headline','Description','Article Body','URL'])\n",
    "  print(merged_data)\n",
    "  #for eow in merged_data:\n",
    "  #  print(eow)\n",
    "  with open('merged_data.csv','w',newline = '') as file:\n",
    "    csv_writer = csv.writer(file)\n",
    "    csv_writer.writerows(merged_data)\n"
   ]
  },
  {
   "cell_type": "code",
   "execution_count": 10,
   "metadata": {
    "colab": {
     "base_uri": "https://localhost:8080/"
    },
    "id": "c8ygzyqm072m",
    "outputId": "a165dbbd-643e-4ffb-9550-1c0d435ddab5"
   },
   "outputs": [
    {
     "ename": "UnicodeDecodeError",
     "evalue": "'charmap' codec can't decode byte 0x9d in position 1141: character maps to <undefined>",
     "output_type": "error",
     "traceback": [
      "\u001b[1;31m---------------------------------------------------------------------------\u001b[0m",
      "\u001b[1;31mUnicodeDecodeError\u001b[0m                        Traceback (most recent call last)",
      "Cell \u001b[1;32mIn[10], line 1\u001b[0m\n\u001b[1;32m----> 1\u001b[0m append_data()\n",
      "Cell \u001b[1;32mIn[6], line 22\u001b[0m, in \u001b[0;36mappend_data\u001b[1;34m()\u001b[0m\n\u001b[0;32m     20\u001b[0m final_data \u001b[38;5;241m=\u001b[39m []\n\u001b[0;32m     21\u001b[0m \u001b[38;5;28;01mfor\u001b[39;00m i \u001b[38;5;129;01min\u001b[39;00m \u001b[38;5;28mrange\u001b[39m(\u001b[38;5;28mlen\u001b[39m(news_data)):\n\u001b[1;32m---> 22\u001b[0m   news_data[i] \u001b[38;5;241m=\u001b[39m remove_header(news_data[i])\n\u001b[0;32m     24\u001b[0m \u001b[38;5;28;01mfor\u001b[39;00m newsdata \u001b[38;5;129;01min\u001b[39;00m news_data:\n\u001b[0;32m     25\u001b[0m   \u001b[38;5;28;01mwith\u001b[39;00m \u001b[38;5;28mopen\u001b[39m(newsdata, \u001b[38;5;124m'\u001b[39m\u001b[38;5;124mr\u001b[39m\u001b[38;5;124m'\u001b[39m,newline\u001b[38;5;241m=\u001b[39m\u001b[38;5;124m'\u001b[39m\u001b[38;5;124m'\u001b[39m) \u001b[38;5;28;01mas\u001b[39;00m file:\n",
      "Cell \u001b[1;32mIn[5], line 3\u001b[0m, in \u001b[0;36mremove_header\u001b[1;34m(fname)\u001b[0m\n\u001b[0;32m      1\u001b[0m \u001b[38;5;28;01mdef\u001b[39;00m \u001b[38;5;21mremove_header\u001b[39m(fname):\n\u001b[0;32m      2\u001b[0m   \u001b[38;5;28;01mwith\u001b[39;00m \u001b[38;5;28mopen\u001b[39m(fname, \u001b[38;5;124m'\u001b[39m\u001b[38;5;124mr\u001b[39m\u001b[38;5;124m'\u001b[39m, newline\u001b[38;5;241m=\u001b[39m\u001b[38;5;124m'\u001b[39m\u001b[38;5;124m'\u001b[39m) \u001b[38;5;28;01mas\u001b[39;00m file:\n\u001b[1;32m----> 3\u001b[0m     rows \u001b[38;5;241m=\u001b[39m \u001b[38;5;28mlist\u001b[39m(csv\u001b[38;5;241m.\u001b[39mreader(file))\n\u001b[0;32m      4\u001b[0m   \u001b[38;5;28;01mdel\u001b[39;00m rows[\u001b[38;5;241m0\u001b[39m]\n\u001b[0;32m      5\u001b[0m   \u001b[38;5;28;01mwith\u001b[39;00m \u001b[38;5;28mopen\u001b[39m(fname, \u001b[38;5;124m'\u001b[39m\u001b[38;5;124mw\u001b[39m\u001b[38;5;124m'\u001b[39m, newline\u001b[38;5;241m=\u001b[39m\u001b[38;5;124m'\u001b[39m\u001b[38;5;124m'\u001b[39m) \u001b[38;5;28;01mas\u001b[39;00m file:\n",
      "File \u001b[1;32m~\\anaconda3\\Lib\\encodings\\cp1252.py:23\u001b[0m, in \u001b[0;36mIncrementalDecoder.decode\u001b[1;34m(self, input, final)\u001b[0m\n\u001b[0;32m     22\u001b[0m \u001b[38;5;28;01mdef\u001b[39;00m \u001b[38;5;21mdecode\u001b[39m(\u001b[38;5;28mself\u001b[39m, \u001b[38;5;28minput\u001b[39m, final\u001b[38;5;241m=\u001b[39m\u001b[38;5;28;01mFalse\u001b[39;00m):\n\u001b[1;32m---> 23\u001b[0m     \u001b[38;5;28;01mreturn\u001b[39;00m codecs\u001b[38;5;241m.\u001b[39mcharmap_decode(\u001b[38;5;28minput\u001b[39m,\u001b[38;5;28mself\u001b[39m\u001b[38;5;241m.\u001b[39merrors,decoding_table)[\u001b[38;5;241m0\u001b[39m]\n",
      "\u001b[1;31mUnicodeDecodeError\u001b[0m: 'charmap' codec can't decode byte 0x9d in position 1141: character maps to <undefined>"
     ]
    }
   ],
   "source": [
    "append_data()"
   ]
  },
  {
   "cell_type": "code",
   "execution_count": null,
   "metadata": {
    "colab": {
     "base_uri": "https://localhost:8080/"
    },
    "id": "o0PhMpntMrJY",
    "outputId": "5a7ac883-4df8-427e-82c5-a51db650c5fa"
   },
   "outputs": [],
   "source": []
  },
  {
   "cell_type": "code",
   "execution_count": null,
   "metadata": {
    "colab": {
     "base_uri": "https://localhost:8080/"
    },
    "id": "ilqBiiG8DqR-",
    "outputId": "0ab4ce9c-4d66-49ba-acc6-dd7b6a3e00df"
   },
   "outputs": [],
   "source": []
  }
 ],
 "metadata": {
  "colab": {
   "provenance": []
  },
  "kernelspec": {
   "display_name": "Python 3 (ipykernel)",
   "language": "python",
   "name": "python3"
  },
  "language_info": {
   "codemirror_mode": {
    "name": "ipython",
    "version": 3
   },
   "file_extension": ".py",
   "mimetype": "text/x-python",
   "name": "python",
   "nbconvert_exporter": "python",
   "pygments_lexer": "ipython3",
   "version": "3.11.5"
  }
 },
 "nbformat": 4,
 "nbformat_minor": 1
}
