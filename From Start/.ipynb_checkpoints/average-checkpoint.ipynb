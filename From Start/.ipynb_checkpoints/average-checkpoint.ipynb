{
 "cells": [
  {
   "cell_type": "code",
   "execution_count": 1,
   "id": "12ddcb76-6a95-4034-8903-4effe9c96c8b",
   "metadata": {
    "colab": {
     "base_uri": "https://localhost:8080/"
    },
    "id": "12ddcb76-6a95-4034-8903-4effe9c96c8b",
    "outputId": "6460f082-045e-4d48-d1cb-64b31427d089"
   },
   "outputs": [
    {
     "name": "stdout",
     "output_type": "stream",
     "text": [
      "Date\n",
      "2020-02-24    1.0\n",
      "2020-02-25   -1.0\n",
      "2020-02-26   -1.0\n",
      "2020-02-27   -1.0\n",
      "2020-02-28   -1.0\n",
      "             ... \n",
      "2024-03-01    0.7\n",
      "2024-03-04    2.0\n",
      "2024-03-05   -1.0\n",
      "2024-03-06    2.0\n",
      "2024-03-07   -1.0\n",
      "Name: score, Length: 1002, dtype: float64\n"
     ]
    }
   ],
   "source": [
    "import pandas as pd\n",
    "\n",
    "# Load the CSV file into a DataFrame, replace the csv file name with the final file\n",
    "df = pd.read_csv('merged_data_f_output.csv')\n",
    "\n",
    "# Convert the 'Date' column to datetime format\n",
    "df['Date'] = pd.to_datetime(df['Date'], dayfirst=True)\n",
    "\n",
    "# Group by 'Date' column and calculate the average score from the sentiment score\n",
    "average_scores = df.groupby('Date')['score'].mean()\n",
    "df['average_score'] = df['Date'].map(average_scores)\n",
    "\n",
    "# Print the result\n",
    "print(average_scores)\n",
    "\n",
    "# write the average value in a new column along with existing sentiment score\n",
    "df.to_csv('output_file.csv', index=False)\n",
    "\n",
    "\n",
    "df = pd.read_csv('output_file.csv')\n",
    "df = df.drop_duplicates(subset='Date')\n",
    "df.to_csv('output_file_average.csv', index=False)"
   ]
  },
  {
   "cell_type": "code",
   "execution_count": null,
   "id": "tcc1HopWIy8g",
   "metadata": {
    "id": "tcc1HopWIy8g"
   },
   "outputs": [],
   "source": []
  },
  {
   "cell_type": "code",
   "execution_count": null,
   "id": "QvC3PSSJIy9t",
   "metadata": {
    "id": "QvC3PSSJIy9t"
   },
   "outputs": [],
   "source": []
  },
  {
   "cell_type": "code",
   "execution_count": null,
   "id": "d105ab99-dea0-47df-a316-750f70b12579",
   "metadata": {
    "id": "d105ab99-dea0-47df-a316-750f70b12579"
   },
   "outputs": [],
   "source": []
  }
 ],
 "metadata": {
  "colab": {
   "provenance": []
  },
  "kernelspec": {
   "display_name": "Python 3 (ipykernel)",
   "language": "python",
   "name": "python3"
  },
  "language_info": {
   "codemirror_mode": {
    "name": "ipython",
    "version": 3
   },
   "file_extension": ".py",
   "mimetype": "text/x-python",
   "name": "python",
   "nbconvert_exporter": "python",
   "pygments_lexer": "ipython3",
   "version": "3.11.5"
  }
 },
 "nbformat": 4,
 "nbformat_minor": 5
}
