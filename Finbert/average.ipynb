{
 "cells": [
  {
   "cell_type": "code",
   "execution_count": 5,
   "id": "12ddcb76-6a95-4034-8903-4effe9c96c8b",
   "metadata": {
    "colab": {
     "base_uri": "https://localhost:8080/"
    },
    "id": "12ddcb76-6a95-4034-8903-4effe9c96c8b",
    "outputId": "6460f082-045e-4d48-d1cb-64b31427d089"
   },
   "outputs": [
    {
     "name": "stdout",
     "output_type": "stream",
     "text": [
      "Date\n",
      "2021-04-13    1.0\n",
      "2021-04-21    0.0\n",
      "2021-04-30   -1.0\n",
      "2021-05-04    2.0\n",
      "2021-05-13    2.0\n",
      "             ... \n",
      "2024-07-11    2.0\n",
      "2024-07-14    2.0\n",
      "2024-07-21    1.0\n",
      "2024-07-23    0.0\n",
      "2024-07-24    0.0\n",
      "Name: score, Length: 247, dtype: float64\n"
     ]
    },
    {
     "name": "stderr",
     "output_type": "stream",
     "text": [
      "C:\\Users\\Swarup\\AppData\\Local\\Temp\\ipykernel_20616\\1807857901.py:7: UserWarning: Parsing dates in %Y-%m-%d format when dayfirst=True was specified. Pass `dayfirst=False` or specify a format to silence this warning.\n",
      "  df['Date'] = pd.to_datetime(df['Date'], dayfirst=True)\n"
     ]
    }
   ],
   "source": [
    "# import pandas as pd\n",
    "\n",
    "# # Load the CSV file into a DataFrame, replace the csv file name with the final file\n",
    "# df = pd.read_csv('moneycontrol_itc_output_updated.csv')\n",
    "\n",
    "# # Convert the 'Date' column to datetime format\n",
    "# df['Date'] = pd.to_datetime(df['Date'], dayfirst=True)\n",
    "\n",
    "# # Group by 'Date' column and calculate the average score from the sentiment score\n",
    "# average_scores = df.groupby('Date')['score'].mean()\n",
    "# df['average_score'] = df['Date'].map(average_scores)\n",
    "\n",
    "# # Print the result\n",
    "# print(average_scores)\n",
    "\n",
    "# # write the average value in a new column along with existing sentiment score\n",
    "# df.to_csv('output_file.csv', index=False)\n",
    "\n",
    "\n",
    "# df = pd.read_csv('output_file.csv')\n",
    "# df = df.drop_duplicates(subset='Date')\n",
    "# df.to_csv('output_file.csv', index=False)"
   ]
  },
  {
   "cell_type": "code",
   "execution_count": 7,
   "id": "d9d45b98",
   "metadata": {},
   "outputs": [
    {
     "name": "stdout",
     "output_type": "stream",
     "text": [
      "Date\n",
      "2021-04-13    1.0\n",
      "2021-04-21    0.0\n",
      "2021-04-30   -1.0\n",
      "2021-05-04    2.0\n",
      "2021-05-13    2.0\n",
      "             ... \n",
      "2024-07-11    2.0\n",
      "2024-07-14    2.0\n",
      "2024-07-21    1.0\n",
      "2024-07-23    0.0\n",
      "2024-07-24    0.0\n",
      "Name: score, Length: 247, dtype: float64\n"
     ]
    }
   ],
   "source": [
    "import pandas as pd\n",
    "\n",
    "# Load the CSV file into a DataFrame, replace the csv file name with the final file\n",
    "df = pd.read_csv('moneycontrol_itc_output_updated.csv')\n",
    "\n",
    "# Convert the 'Date of Publishing' column to datetime format and extract the date\n",
    "df['Date'] = pd.to_datetime(df['Date of Publishing'], format='%Y-%m-%dT%H:%M:%S%z').dt.date\n",
    "\n",
    "# Group by 'Date' column and calculate the average score from the sentiment score\n",
    "average_scores = df.groupby('Date')['score'].mean()\n",
    "df['average_score'] = df['Date'].map(average_scores)\n",
    "\n",
    "# Print the result\n",
    "print(average_scores)\n",
    "\n",
    "# Write the average value in a new column along with existing sentiment score\n",
    "df.to_csv('output_file.csv', index=False)\n",
    "\n",
    "# Reload the DataFrame and remove duplicates based on the 'Date' column\n",
    "df = pd.read_csv('output_file.csv')\n",
    "df = df.drop_duplicates(subset='Date')\n",
    "df.to_csv('output_file.csv', index=False)\n"
   ]
  },
  {
   "cell_type": "code",
   "execution_count": null,
   "id": "tcc1HopWIy8g",
   "metadata": {
    "id": "tcc1HopWIy8g"
   },
   "outputs": [],
   "source": []
  },
  {
   "cell_type": "code",
   "execution_count": null,
   "id": "QvC3PSSJIy9t",
   "metadata": {
    "id": "QvC3PSSJIy9t"
   },
   "outputs": [],
   "source": []
  },
  {
   "cell_type": "code",
   "execution_count": null,
   "id": "d105ab99-dea0-47df-a316-750f70b12579",
   "metadata": {
    "id": "d105ab99-dea0-47df-a316-750f70b12579"
   },
   "outputs": [],
   "source": []
  }
 ],
 "metadata": {
  "colab": {
   "provenance": []
  },
  "kernelspec": {
   "display_name": "Python 3 (ipykernel)",
   "language": "python",
   "name": "python3"
  },
  "language_info": {
   "codemirror_mode": {
    "name": "ipython",
    "version": 3
   },
   "file_extension": ".py",
   "mimetype": "text/x-python",
   "name": "python",
   "nbconvert_exporter": "python",
   "pygments_lexer": "ipython3",
   "version": "3.11.5"
  }
 },
 "nbformat": 4,
 "nbformat_minor": 5
}
