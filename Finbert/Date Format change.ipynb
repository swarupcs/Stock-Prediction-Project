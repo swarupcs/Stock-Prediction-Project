{
 "cells": [
  {
   "cell_type": "code",
   "execution_count": 5,
   "id": "e5f98c99",
   "metadata": {},
   "outputs": [
    {
     "name": "stdout",
     "output_type": "stream",
     "text": [
      "  Company         Date of Publishing        Date                Author  \\\n",
      "0     ITC  2024-07-24T11:46:08+05:30  2024-07-24       Zoya Springwala   \n",
      "1     ITC  2024-07-23T16:00:12+05:30  2024-07-23     Moneycontrol News   \n",
      "2     ITC  2024-07-23T14:55:34+05:30  2024-07-23     Moneycontrol News   \n",
      "3     ITC  2024-07-21T12:25:36+05:30  2024-07-21  Sunil Shankar Matkar   \n",
      "4     ITC  2024-07-14T01:45:44+05:30  2024-07-14  Sunil Shankar Matkar   \n",
      "\n",
      "                                            Headline  \\\n",
      "0  Titan, ITC seen benefitting most from consumpt...   \n",
      "1  Jefferies upgrades ITC to buy from hold, hikes...   \n",
      "2  ITC stock soars 4% as Budget 2024 skips hike i...   \n",
      "3  Trade Spotlight: How should you trade LIC, HUL...   \n",
      "4  Trade Spotlight: How should you trade Inox Win...   \n",
      "\n",
      "                                         Description  \\\n",
      "0  As the dust from the Budget settles, a clearer...   \n",
      "1  Jefferies India upgraded ITC Ltd to a buy rati...   \n",
      "2  Budget 2024: Several measures announced to boo...   \n",
      "3  Experts see a sharp correction if the Nifty 50...   \n",
      "4  The Nifty 50 needs to sustain 24,500 for a fur...   \n",
      "\n",
      "                                        Article Body  \\\n",
      "0  The Budget had more negative surprises than po...   \n",
      "1  Jefferies India upgraded ITC Ltd to a buy rati...   \n",
      "2  Shares of cigarettes-to-hotels conglomerate, I...   \n",
      "3  The market snapped a four-day winning streak a...   \n",
      "4  After a day of recovery following consolidatio...   \n",
      "\n",
      "                                                 URL  score  \n",
      "0  https://www.moneycontrol.com/news/business/mar...      0  \n",
      "1  https://www.moneycontrol.com/news/business/ear...      0  \n",
      "2  https://www.moneycontrol.com/news/business/mar...      0  \n",
      "3  https://www.moneycontrol.com/news/business/mar...      1  \n",
      "4  https://www.moneycontrol.com/news/business/mar...      2  \n"
     ]
    }
   ],
   "source": [
    "import pandas as pd\n",
    "\n",
    "# Load the dataset\n",
    "df = pd.read_csv('moneycontrol_itc_output.csv')\n",
    "\n",
    "# Extract only the date and add it to a new column named \"Date\"\n",
    "df['Date'] = pd.to_datetime(df['Date of Publishing']).dt.date\n",
    "\n",
    "# Reorder columns to place the \"Date\" column after the \"Date of Publishing\" column\n",
    "columns = df.columns.tolist()\n",
    "index = columns.index('Date of Publishing')\n",
    "columns.insert(index + 1, columns.pop(columns.index('Date')))\n",
    "df = df[columns]\n",
    "\n",
    "# Save the updated DataFrame to a new CSV file\n",
    "df.to_csv('moneycontrol_itc_output_updated.csv', index=False)\n",
    "\n",
    "# Display the first few rows of the DataFrame to verify the new column\n",
    "print(df.head())\n"
   ]
  },
  {
   "cell_type": "code",
   "execution_count": null,
   "id": "1d613c63",
   "metadata": {},
   "outputs": [],
   "source": []
  },
  {
   "cell_type": "code",
   "execution_count": null,
   "id": "d832b6e9",
   "metadata": {},
   "outputs": [],
   "source": []
  }
 ],
 "metadata": {
  "kernelspec": {
   "display_name": "Python 3 (ipykernel)",
   "language": "python",
   "name": "python3"
  },
  "language_info": {
   "codemirror_mode": {
    "name": "ipython",
    "version": 3
   },
   "file_extension": ".py",
   "mimetype": "text/x-python",
   "name": "python",
   "nbconvert_exporter": "python",
   "pygments_lexer": "ipython3",
   "version": "3.11.5"
  }
 },
 "nbformat": 4,
 "nbformat_minor": 5
}
