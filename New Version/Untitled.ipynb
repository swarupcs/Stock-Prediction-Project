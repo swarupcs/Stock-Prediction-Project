{
 "cells": [
  {
   "cell_type": "code",
   "execution_count": 7,
   "id": "878997c9",
   "metadata": {},
   "outputs": [
    {
     "name": "stderr",
     "output_type": "stream",
     "text": [
      "Reading CSV file: 1236rows [00:00, 65056.53rows/s]\n",
      "Writing CSV file: 100%|██████████| 1236/1236 [00:00<00:00, 32528.27rows/s]"
     ]
    },
    {
     "name": "stdout",
     "output_type": "stream",
     "text": [
      "Data has been written to TOI_itc_new.csv successfully.\n"
     ]
    },
    {
     "name": "stderr",
     "output_type": "stream",
     "text": [
      "\n"
     ]
    }
   ],
   "source": [
    "import csv\n",
    "from tqdm import tqdm\n",
    "\n",
    "def read_csv(input_file):\n",
    "    with open(input_file, mode='r', newline='', encoding='utf-8') as file:\n",
    "        reader = csv.reader(file)\n",
    "        data = [row for row in tqdm(reader, desc=\"Reading CSV file\", unit=\"rows\")]\n",
    "    return data\n",
    "\n",
    "def write_csv(output_file, data):\n",
    "    with open(output_file, mode='w', newline='', encoding='utf-8') as file:\n",
    "        writer = csv.writer(file)\n",
    "        for row in tqdm(data, desc=\"Writing CSV file\", unit=\"rows\"):\n",
    "            writer.writerow(row)\n",
    "\n",
    "input_file = 'TOI_itc.csv'\n",
    "output_file = 'TOI_itc_new.csv'\n",
    "\n",
    "# Read data from input CSV file\n",
    "data = read_csv(input_file)\n",
    "\n",
    "# Write data to output CSV file\n",
    "write_csv(output_file, data)\n",
    "\n",
    "print(f\"Data has been written to {output_file} successfully.\")\n"
   ]
  },
  {
   "cell_type": "code",
   "execution_count": null,
   "id": "9fc5186d",
   "metadata": {},
   "outputs": [],
   "source": []
  },
  {
   "cell_type": "code",
   "execution_count": null,
   "id": "6f703009",
   "metadata": {},
   "outputs": [],
   "source": []
  }
 ],
 "metadata": {
  "kernelspec": {
   "display_name": "Python 3 (ipykernel)",
   "language": "python",
   "name": "python3"
  },
  "language_info": {
   "codemirror_mode": {
    "name": "ipython",
    "version": 3
   },
   "file_extension": ".py",
   "mimetype": "text/x-python",
   "name": "python",
   "nbconvert_exporter": "python",
   "pygments_lexer": "ipython3",
   "version": "3.11.5"
  }
 },
 "nbformat": 4,
 "nbformat_minor": 5
}
